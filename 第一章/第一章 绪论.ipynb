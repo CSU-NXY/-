{
 "cells": [
  {
   "cell_type": "markdown",
   "metadata": {},
   "source": [
    "### 1.1 表1.1中若只包含编号为1和4的两个样例，试给出相应的版本空间."
   ]
  },
  {
   "cell_type": "markdown",
   "metadata": {},
   "source": [
    "<table>\n",
    "  <tr>\n",
    "    <th width=20%>编号</th>\n",
    "    <th width=20%>色泽</th>\n",
    "    <th width=\"20%\">根蒂</th>\n",
    "    <th width=\"20%\">敲声</th>\n",
    "    <th width=\"20%\">好瓜</th>\n",
    "  </tr>\n",
    "  <tr>\n",
    "    <th width=20%>1</th>\n",
    "    <th width=20%>青绿</th>\n",
    "    <th width=\"20%\">蜷缩</th>\n",
    "    <th width=\"20%\">浊响</th>\n",
    "    <th width=\"20%\">是</th>\n",
    "  </tr>\n",
    "  <tr>\n",
    "    <th width=20%>4</th>\n",
    "    <th width=20%>乌黑</th>\n",
    "    <th width=\"20%\">稍蜷</th>\n",
    "    <th width=\"20%\">沉闷</th>\n",
    "    <th width=\"20%\">否</th>\n",
    "</table>\n",
    "<div align=\"center\">(表1.1)</div>"
   ]
  },
  {
   "cell_type": "markdown",
   "metadata": {},
   "source": [
    "答案：版本空间是假设空间中与训练集一致的假设的集合，因此与上表对应的版本空间为："
   ]
  },
  {
   "cell_type": "markdown",
   "metadata": {},
   "source": [
    "<img src=\"./1.1图.png\">"
   ]
  },
  {
   "cell_type": "code",
   "execution_count": null,
   "metadata": {
    "collapsed": true
   },
   "outputs": [],
   "source": []
  }
 ],
 "metadata": {
  "kernelspec": {
   "display_name": "Python 3",
   "language": "python",
   "name": "python3"
  },
  "language_info": {
   "codemirror_mode": {
    "name": "ipython",
    "version": 3
   },
   "file_extension": ".py",
   "mimetype": "text/x-python",
   "name": "python",
   "nbconvert_exporter": "python",
   "pygments_lexer": "ipython3",
   "version": "3.6.3"
  }
 },
 "nbformat": 4,
 "nbformat_minor": 2
}
