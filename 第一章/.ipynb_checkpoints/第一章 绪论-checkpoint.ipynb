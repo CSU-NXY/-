{
 "cells": [
  {
   "cell_type": "markdown",
   "metadata": {},
   "source": [
    "习题\n",
    "=="
   ]
  },
  {
   "cell_type": "markdown",
   "metadata": {},
   "source": [
    "1.1 \n",
    "---\n",
    "### 题目 \n",
    "表1.1中若只包含编号为1和4的两个样例，试给出相应的版本空间."
   ]
  },
  {
   "cell_type": "markdown",
   "metadata": {},
   "source": [
    "<table>\n",
    "  <tr>\n",
    "    <th width=20%>编号</th>\n",
    "    <th width=20%>色泽</th>\n",
    "    <th width=\"20%\">根蒂</th>\n",
    "    <th width=\"20%\">敲声</th>\n",
    "    <th width=\"20%\">好瓜</th>\n",
    "  </tr>\n",
    "  <tr>\n",
    "    <th width=20%>1</th>\n",
    "    <th width=20%>青绿</th>\n",
    "    <th width=\"20%\">蜷缩</th>\n",
    "    <th width=\"20%\">浊响</th>\n",
    "    <th width=\"20%\">是</th>\n",
    "  </tr>\n",
    "  <tr>\n",
    "    <th width=20%>4</th>\n",
    "    <th width=20%>乌黑</th>\n",
    "    <th width=\"20%\">稍蜷</th>\n",
    "    <th width=\"20%\">沉闷</th>\n",
    "    <th width=\"20%\">否</th>\n",
    "</table>\n",
    "<div align=\"center\">(表1.1)</div>"
   ]
  },
  {
   "cell_type": "markdown",
   "metadata": {},
   "source": [
    "### 答案\n",
    "版本空间是假设空间中与训练集一致的假设的集合，因此与上表对应的版本空间为："
   ]
  },
  {
   "cell_type": "markdown",
   "metadata": {},
   "source": [
    "<img src=\"./1.1图.png\">"
   ]
  },
  {
   "cell_type": "markdown",
   "metadata": {
    "collapsed": true
   },
   "source": [
    "1.2\n",
    "---\n",
    "### 题目\n",
    "与使用单个合取式来进行假设表示相比，使用“析合范式”将使得假设空间具有更强的表示能力.例如\n",
    "\n",
    "$$好瓜\\leftrightarrow((色泽=\\ast)\\land(根蒂=蜷缩)\\land(敲声=\\ast))\\lor((色泽=乌黑)\\land(根蒂=\\ast)\\land(敲声=沉闷))$$\n",
    "\n",
    "会把“$（色泽=青绿）\\land（根蒂=蜷缩）\\land（敲声=清脆）$”以及“$（色泽=乌黑）\\land（根蒂=硬挺）\\land（敲声=沉闷）$”都分类为“好瓜”.若使用最多包含$k$个合取式的析合范式来表达表1.1西瓜分类问题的假设空间，试估算出共有多少种可能的假设."
   ]
  },
  {
   "cell_type": "markdown",
   "metadata": {},
   "source": [
    "### 答案\n",
    "假设色泽、根蒂、敲声各有3种可能的取值，则以单个合取式的数量有$4\\times4\\times4+1=65$（三种可能的取值加上$\\ast$号，一共四种取值，见书本第5页）。其中不带$\\ast$号的合取式有$3\\times3\\times3=27$个；带一个$\\ast$号的有$3\\times3\\times3=27$个；带两个$\\ast$号的有$3\\times3=9$个；带三个$\\ast$号的有1个；另外，还有一个空集$\\phi$。  \n",
    "满足表1.1的分别有不带$\\ast$号的合取式25个、带一个$\\ast$号的合取式21个、带两个$\\ast$号的合取式3个。  \n",
    "这一题我的思路到此为止，之后应该是组合问题，并且要考虑到书中提示的冗余情况。"
   ]
  },
  {
   "cell_type": "markdown",
   "metadata": {},
   "source": [
    "1.3\n",
    "---\n",
    "### 题目\n",
    "若数据包含噪声，则假设空间中有可能不存在与所有训练样本都一致的假设.在此情形下，试设计一种归纳偏好用于假设选择."
   ]
  },
  {
   "cell_type": "markdown",
   "metadata": {},
   "source": [
    "### 答案\n",
    "设计的归纳偏好为：\n",
    "* 偏好训练错误低的假设\n",
    "* 偏好“尽可能一般”的模型\n",
    "\n",
    "即在尽可能降低错误的前提下，保持一定的泛化能力。"
   ]
  },
  {
   "cell_type": "markdown",
   "metadata": {},
   "source": [
    "1.4\n",
    "---\n",
    "### 题目\n",
    "本章节1.4节在论述“没有免费的午餐”定理时，默认使用了“分类错误率”作为性能度量来对分类器进行评估.若换用其他性能度量$\\ell$,则式(1.1)将改为\n",
    "$$\n",
    "E_{ote}(\\zeta{_a}|X,f)=\\sum_h\\sum_{x\\in\\chi-X}P(x)\\ell(h(x),f(x))P(h|x,\\zeta)\n",
    "$$\n",
    "试证明“没有免费的午餐定理”仍成立."
   ]
  },
  {
   "cell_type": "markdown",
   "metadata": {},
   "source": [
    "### 答案\n",
    "这题似乎需要证明对于所有$h$,$$\\ell(h(x),0)+\\ell(h(x),1)$$\n",
    "是常数。\n",
    "希望能够得到指导。"
   ]
  },
  {
   "cell_type": "markdown",
   "metadata": {},
   "source": [
    "1.5\n",
    "---\n",
    "### 题目\n",
    "试论述机器学习能在互联网搜索的哪些环节起什么作用."
   ]
  },
  {
   "cell_type": "markdown",
   "metadata": {},
   "source": [
    "### 答案\n",
    "* 根据用户搜索关键词与最终选择的搜索结果对搜索进行优化\n",
    "* 依据用户的搜索习惯定制广告"
   ]
  }
 ],
 "metadata": {
  "kernelspec": {
   "display_name": "Python 3",
   "language": "python",
   "name": "python3"
  },
  "language_info": {
   "codemirror_mode": {
    "name": "ipython",
    "version": 3
   },
   "file_extension": ".py",
   "mimetype": "text/x-python",
   "name": "python",
   "nbconvert_exporter": "python",
   "pygments_lexer": "ipython3",
   "version": "3.6.3"
  }
 },
 "nbformat": 4,
 "nbformat_minor": 2
}
